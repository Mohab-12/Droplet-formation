{
 "cells": [
  {
   "cell_type": "code",
   "execution_count": 1,
   "id": "ea766dc8",
   "metadata": {},
   "outputs": [],
   "source": [
    "import pandas as pd\n",
    "import matplotlib.pyplot as plt\n",
    "import streamlit as st\n",
    "import plotly.express as px"
   ]
  },
  {
   "cell_type": "code",
   "execution_count": 2,
   "id": "3f22ff83",
   "metadata": {},
   "outputs": [],
   "source": [
    "Kristina=pd.read_excel(r\"Copy of 1-4 priedai_INPUT-OUTPT- lenteles-pvz.xlsx\",\n",
    "                 sheet_name='1 Kristina', header=11);\n",
    "\n",
    "Mohab=pd.read_excel(r\"Copy of 1-4 priedai_INPUT-OUTPT- lenteles-pvz.xlsx\",\n",
    "                 sheet_name='2 Mohab', header=11);\n",
    "\n",
    "Lukas=pd.read_excel(r\"Copy of 1-4 priedai_INPUT-OUTPT- lenteles-pvz.xlsx\",\n",
    "                 sheet_name='3 Lukas', header=11);\n",
    "\n",
    "Povilas=pd.read_excel(r\"Copy of 1-4 priedai_INPUT-OUTPT- lenteles-pvz.xlsx\",\n",
    "                 sheet_name='4 Povilas', header=11);"
   ]
  },
  {
   "cell_type": "code",
   "execution_count": 3,
   "id": "3942b56b",
   "metadata": {},
   "outputs": [
    {
     "name": "stderr",
     "output_type": "stream",
     "text": [
      "2023-05-17 22:00:18.149 \n",
      "  \u001b[33m\u001b[1mWarning:\u001b[0m to view this Streamlit app on a browser, run it with the following\n",
      "  command:\n",
      "\n",
      "    streamlit run C:\\Users\\Carnival Stores\\anaconda3\\lib\\site-packages\\ipykernel_launcher.py [ARGUMENTS]\n"
     ]
    }
   ],
   "source": [
    "df = st.sidebar.selectbox(label='Choose you dataset', options=['Kristina', 'Mohab', 'Lukas', 'Povilas'])\n",
    "\n",
    "if df=='Kristina':\n",
    "    df=Kristina\n",
    "elif df=='Povilas':\n",
    "    df=Povilas\n",
    "elif df=='Lukas':\n",
    "    df=Lukas\n",
    "else:\n",
    "    df=Mohab"
   ]
  },
  {
   "cell_type": "code",
   "execution_count": 4,
   "id": "c46735e3",
   "metadata": {},
   "outputs": [],
   "source": [
    "df.drop(axis=0, index=0, inplace=True);\n",
    "df.drop(axis=0, index=61, inplace=True);\n",
    "df.drop(axis=1, columns='No', inplace=True);\n",
    "df.rename(columns = {'Fo':'Frequency','τ':'Time'}, inplace = True)"
   ]
  },
  {
   "cell_type": "code",
   "execution_count": 5,
   "id": "a5eee824",
   "metadata": {},
   "outputs": [],
   "source": [
    "for i in df.columns:\n",
    "    df[i]= df[i].astype('float');"
   ]
  },
  {
   "cell_type": "code",
   "execution_count": 6,
   "id": "3bf28f79",
   "metadata": {},
   "outputs": [],
   "source": [
    "# df[df.isna().any(axis=1)];\n",
    "# df['gradTR'].fillna('0');"
   ]
  },
  {
   "cell_type": "code",
   "execution_count": 7,
   "id": "c80ccdef",
   "metadata": {},
   "outputs": [],
   "source": [
    "# df.columns[2:]"
   ]
  },
  {
   "cell_type": "code",
   "execution_count": 8,
   "id": "6260217a",
   "metadata": {},
   "outputs": [],
   "source": [
    "st.write(\"\"\"\n",
    "            # HEAT AND MASS TRANSFER PRCOESSES OF DROPLET\n",
    "            ## The data\n",
    "            \"\"\")\n",
    "\n",
    "Column1 = st.sidebar.selectbox(label='Columns', options=df.columns[2:])\n",
    "Column2 = st.sidebar.selectbox(label='Choose your domain', options=['Frequency', 'Time'])\n",
    "\n",
    "st.write(df)\n",
    "\n",
    "fig = px.line(x=df[Column2], y=df[Column1], title= Column1)\n",
    "\n",
    "fig.update_layout(\n",
    "        xaxis_title=Column2,\n",
    "        yaxis_title=Column1)\n",
    "\n",
    "st.write(fig)"
   ]
  },
  {
   "cell_type": "code",
   "execution_count": null,
   "id": "f584eb65",
   "metadata": {},
   "outputs": [],
   "source": []
  },
  {
   "cell_type": "code",
   "execution_count": null,
   "id": "9b27436e",
   "metadata": {},
   "outputs": [],
   "source": []
  }
 ],
 "metadata": {
  "kernelspec": {
   "display_name": "Python 3 (ipykernel)",
   "language": "python",
   "name": "python3"
  },
  "language_info": {
   "codemirror_mode": {
    "name": "ipython",
    "version": 3
   },
   "file_extension": ".py",
   "mimetype": "text/x-python",
   "name": "python",
   "nbconvert_exporter": "python",
   "pygments_lexer": "ipython3",
   "version": "3.9.13"
  }
 },
 "nbformat": 4,
 "nbformat_minor": 5
}
